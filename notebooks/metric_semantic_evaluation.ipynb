{
 "cells": [
  {
   "cell_type": "code",
   "execution_count": 1,
   "metadata": {},
   "outputs": [],
   "source": [
    "import numpy as np\n",
    "import os\n",
    "import copy\n",
    "\n",
    "import open3d as o3d\n",
    "from open3d import JVisualizer"
   ]
  },
  {
   "cell_type": "code",
   "execution_count": 16,
   "metadata": {},
   "outputs": [],
   "source": [
    "class Mesh:\n",
    "    def __init__(self, filepath):\n",
    "        os.path.isfile(filepath)\n",
    "        self.mesh_o3d = o3d.io.read_triangle_mesh(filepath)\n",
    "        self.print_mesh()\n",
    "\n",
    "    def visualize(self):\n",
    "        self.mesh_o3d.compute_vertex_normals()\n",
    "        vis = o3d.visualization.Visualizer()\n",
    "        vis.create_window()\n",
    "        vis.get_render_option().mesh_show_back_face = True\n",
    "        self.add_to_vis(vis)\n",
    "        mesh_frame = o3d.geometry.create_mesh_coordinate_frame(size=4,\n",
    "                                                               origin=[0, 0, 0])\n",
    "        vis.add_geometry(mesh_frame)\n",
    "        vis.run()\n",
    "        vis.destroy_window()\n",
    "\n",
    "    def add_to_vis(self, vis):\n",
    "        \"\"\" Add the mesh to the visualization `vis` object \"\"\"\n",
    "        self.mesh_o3d.compute_vertex_normals()\n",
    "        vis.add_geometry(self.mesh_o3d)\n",
    "\n",
    "    def print_mesh(self):\n",
    "        print(\"Testing mesh in open3d ...\")\n",
    "        print(self.mesh_o3d)\n",
    "        print(np.asarray(self.mesh_o3d.vertices))\n",
    "        print(np.asarray(self.mesh_o3d.triangles))\n",
    "        print(\"\")\n",
    "    \n",
    "    def transform(self, T):\n",
    "        self.mesh_o3d.transform(T)"
   ]
  },
  {
   "cell_type": "code",
   "execution_count": 17,
   "metadata": {},
   "outputs": [],
   "source": [
    "def quaternion_to_matrix(q):\n",
    "    # q: numpy array: [x, y, z, w]\n",
    "    x = q[0]\n",
    "    y = q[1]\n",
    "    z = q[2]\n",
    "    w = q[3]\n",
    "    Nq = w*w + x*x + y*y + z*z\n",
    "    if Nq < np.finfo(np.float).eps:\n",
    "        return np.eye(3)\n",
    "    s = 2.0/Nq\n",
    "    X = x*s\n",
    "    Y = y*s\n",
    "    Z = z*s\n",
    "    wX = w*X; wY = w*Y; wZ = w*Z\n",
    "    xX = x*X; xY = x*Y; xZ = x*Z\n",
    "    yY = y*Y; yZ = y*Z; zZ = z*Z\n",
    "    return np.array(\n",
    "           [[ 1.0-(yY+zZ), xY-wZ, xZ+wY ],\n",
    "            [ xY+wZ, 1.0-(xX+zZ), yZ-wX ],\n",
    "            [ xZ-wY, yZ+wX, 1.0-(xX+yY) ]])"
   ]
  },
  {
   "cell_type": "code",
   "execution_count": 18,
   "metadata": {},
   "outputs": [],
   "source": [
    "# FILL PATHS BELOW\n",
    "gt_mesh_path = \"/home/yunchang/Downloads/warty_tiny_loop5_gt.ply\"\n",
    "est_mesh_path = \"/home/yunchang/Downloads/tesse_yunchang_lambda_23073_1000743885426201409.ply\""
   ]
  },
  {
   "cell_type": "code",
   "execution_count": 19,
   "metadata": {},
   "outputs": [],
   "source": [
    "# FILL IN \n",
    "robot_0_position_0 = np.array([91.996468, -49.997837, -0.271650])\n",
    "robot_0_quaternion_0 = np.array([0, 0, 0.945753, 0.324743])"
   ]
  },
  {
   "cell_type": "code",
   "execution_count": 20,
   "metadata": {},
   "outputs": [
    {
     "name": "stdout",
     "output_type": "stream",
     "text": [
      "Loading Ground-truth mesh...\n",
      "Testing mesh in open3d ...\n",
      "geometry::TriangleMesh with 2881891 points and 3109646 triangles.\n",
      "[[ 9.92750e+01 -3.51299e+01  7.50000e-02]\n",
      " [ 9.92666e+01 -3.51250e+01  7.50000e-02]\n",
      " [ 9.92750e+01 -3.51283e+01  2.50000e-02]\n",
      " ...\n",
      " [ 6.22250e+01 -4.64093e+01  1.52500e+00]\n",
      " [ 6.20750e+01 -4.66750e+01  1.58768e+00]\n",
      " [ 6.20750e+01 -4.66750e+01  1.58768e+00]]\n",
      "[[      0       1       2]\n",
      " [      2       1       3]\n",
      " [      4       5       0]\n",
      " ...\n",
      " [2881825  148006  148025]\n",
      " [ 148025 2881846 2881825]\n",
      " [ 148045 2881846  148025]]\n",
      "\n",
      "Loading Estimated mesh...\n",
      "Testing mesh in open3d ...\n",
      "geometry::TriangleMesh with 3591187 points and 3737015 triangles.\n",
      "[[18.425     26.4218    -0.575    ]\n",
      " [18.422     26.425     -0.575    ]\n",
      " [18.425     26.425     -0.588612 ]\n",
      " ...\n",
      " [ 8.675     23.225     -0.0967604]\n",
      " [ 8.725     23.225     -0.0958508]\n",
      " [ 8.775     23.225     -0.0955864]]\n",
      "[[      0       1       2]\n",
      " [      3       1       0]\n",
      " [      4       5       6]\n",
      " ...\n",
      " [3591184 3591103 3591185]\n",
      " [3591186 3591124 3591145]\n",
      " [3591185 3591124 3591186]]\n",
      "\n"
     ]
    }
   ],
   "source": [
    "print(\"Loading Ground-truth mesh...\")\n",
    "gt_mesh_original = Mesh(gt_mesh_path)\n",
    "print(\"Loading Estimated mesh...\")\n",
    "est_mesh_original = Mesh(est_mesh_path)"
   ]
  },
  {
   "cell_type": "code",
   "execution_count": 21,
   "metadata": {},
   "outputs": [],
   "source": [
    "# Transform Meshes to same frame of reference\n",
    "gt_mesh = copy.deepcopy(gt_mesh_original)\n",
    "est_mesh = copy.deepcopy(est_mesh_original)"
   ]
  },
  {
   "cell_type": "code",
   "execution_count": 22,
   "metadata": {},
   "outputs": [],
   "source": [
    "# Transform gt mesh to est mesh \n",
    "w_T_gtPose0 = np.eye(4)\n",
    "w_T_gtPose0[:3, :3] = quaternion_to_matrix(robot_0_quaternion_0)\n",
    "w_T_gtPose0[:3, 3] = robot_0_position_0\n",
    "\n",
    "w_T_estPose0 = np.eye(4) # first pose of first robot after dpgo is identity \n",
    "\n",
    "est_T_gt = np.dot(np.linalg.inv(w_T_gtPose0), w_T_estPose0)\n",
    "gt_mesh.transform(est_T_gt)"
   ]
  },
  {
   "cell_type": "code",
   "execution_count": 23,
   "metadata": {},
   "outputs": [],
   "source": [
    "vis = o3d.visualization.Visualizer()\n",
    "vis.create_window()\n",
    "vis.get_render_option().mesh_show_back_face = True\n",
    "vis.add_geometry(est_mesh.mesh_o3d)\n",
    "vis.add_geometry(gt_mesh.mesh_o3d)\n",
    "vis.add_geometry(o3d.geometry.create_mesh_coordinate_frame(size=4))\n",
    "vis.run()\n",
    "vis.destroy_window()"
   ]
  },
  {
   "cell_type": "code",
   "execution_count": 24,
   "metadata": {},
   "outputs": [],
   "source": [
    "NUMBER_OF_SAMPLES=1000000\n",
    "gt_pcl = o3d.geometry.sample_points_uniformly(gt_mesh.mesh_o3d, NUMBER_OF_SAMPLES)\n",
    "# Don't sample estimated mesh, just pick vertices, otw you'll be mixing colors...\n",
    "# est_pcl = o3d.geometry.sample_points_uniformly(est_mesh.mesh_o3d, NUMBER_OF_SAMPLES)\n",
    "est_pcl = o3d.io.read_point_cloud(est_mesh_path)"
   ]
  },
  {
   "cell_type": "code",
   "execution_count": 25,
   "metadata": {},
   "outputs": [],
   "source": [
    "vis = o3d.visualization.Visualizer()\n",
    "vis.create_window()\n",
    "vis.get_render_option().mesh_show_back_face = True\n",
    "vis.add_geometry(gt_pcl)\n",
    "vis.add_geometry(est_pcl)\n",
    "vis.run()\n",
    "vis.destroy_window()"
   ]
  },
  {
   "cell_type": "code",
   "execution_count": 26,
   "metadata": {},
   "outputs": [],
   "source": [
    "# ICP\n",
    "def draw_registration_result(source, target, transformation):\n",
    "    source_temp = copy.deepcopy(source)\n",
    "    target_temp = copy.deepcopy(target)\n",
    "    source_temp.paint_uniform_color([1, 0.706, 0])\n",
    "    target_temp.paint_uniform_color([0, 0.651, 0.929])\n",
    "    source_temp.transform(transformation)\n",
    "    o3d.visualization.draw_geometries([source_temp, target_temp])\n",
    "def draw_correspondences(source, target, correspondences):\n",
    "    source_temp = copy.deepcopy(source)\n",
    "    target_temp = copy.deepcopy(target)\n",
    "    #source_temp.paint_uniform_color([1, 0.706, 0])\n",
    "    #target_temp.paint_uniform_color([0, 0.651, 0.929])\n",
    "    o3d.visualization.draw_geometries([source_temp, #target_temp, \n",
    "                                       correspondences])\n",
    "    "
   ]
  },
  {
   "cell_type": "code",
   "execution_count": 27,
   "metadata": {},
   "outputs": [],
   "source": [
    "# ICP params\n",
    "ICP_THRESHOLD = 1.5\n",
    "trans_init = np.asarray([[1.0, 0.0, 0.0, 0.0],\n",
    "                         [0.0, 1.0, 0.0, 0.0],\n",
    "                         [0.0, 0.0, 1.0, 0.0],\n",
    "                         [0.0, 0.0, 0.0, 1.0]])"
   ]
  },
  {
   "cell_type": "code",
   "execution_count": 28,
   "metadata": {},
   "outputs": [],
   "source": [
    "# Visualize initial registration problem\n",
    "draw_registration_result(est_pcl, gt_pcl, trans_init)"
   ]
  },
  {
   "cell_type": "code",
   "execution_count": 29,
   "metadata": {},
   "outputs": [],
   "source": [
    "# Evaluate current fit between pointclouds\n",
    "evaluation = o3d.registration.evaluate_registration(est_pcl, gt_pcl, ICP_THRESHOLD, trans_init)"
   ]
  },
  {
   "cell_type": "code",
   "execution_count": 30,
   "metadata": {},
   "outputs": [
    {
     "name": "stdout",
     "output_type": "stream",
     "text": [
      "Initial registration\n",
      "registration::RegistrationResult with fitness = 0.975996, inlier_rmse = 0.706754, and correspondence_set size of 3504985\n",
      "Access transformation to get result.\n"
     ]
    }
   ],
   "source": [
    "print(\"Initial registration\")\n",
    "print(evaluation)"
   ]
  },
  {
   "cell_type": "code",
   "execution_count": 31,
   "metadata": {},
   "outputs": [
    {
     "name": "stdout",
     "output_type": "stream",
     "text": [
      "Apply point-to-point ICP\n"
     ]
    }
   ],
   "source": [
    "print(\"Apply point-to-point ICP\")\n",
    "reg_p2p = o3d.registration.registration_icp(\n",
    "    est_pcl, gt_pcl, ICP_THRESHOLD, trans_init,\n",
    "    o3d.registration.TransformationEstimationPointToPoint(),\n",
    "    o3d.registration.ICPConvergenceCriteria(max_iteration = 2000))\n",
    "correspondences = reg_p2p.correspondence_set"
   ]
  },
  {
   "cell_type": "code",
   "execution_count": 32,
   "metadata": {},
   "outputs": [
    {
     "name": "stdout",
     "output_type": "stream",
     "text": [
      "registration::RegistrationResult with fitness = 0.970207, inlier_rmse = 0.318010, and correspondence_set size of 3484193\n",
      "Access transformation to get result.\n",
      "\n",
      "Transformation is:\n",
      "[[ 0.99963777 -0.00956201 -0.02515728  0.63998349]\n",
      " [ 0.00929708  0.99990031 -0.01062698 -0.66334041]\n",
      " [ 0.02525638  0.01038924  0.99962702  0.07886306]\n",
      " [ 0.          0.          0.          1.        ]]\n",
      "\n",
      "Correspondence Set:\n",
      "std::vector<Eigen::Vector2i> with 3484193 elements.\n",
      "Use numpy.asarray() to access data.\n",
      "\n"
     ]
    }
   ],
   "source": [
    "print(reg_p2p)\n",
    "print(\"\")\n",
    "\n",
    "print(\"Transformation is:\")\n",
    "print(reg_p2p.transformation)\n",
    "print(\"\")\n",
    "\n",
    "print(\"Correspondence Set:\")\n",
    "print(reg_p2p.correspondence_set)\n",
    "print(\"\")"
   ]
  },
  {
   "cell_type": "code",
   "execution_count": 33,
   "metadata": {},
   "outputs": [],
   "source": [
    "# Draw Registration Result\n",
    "draw_registration_result(est_pcl, gt_pcl, reg_p2p.transformation)"
   ]
  },
  {
   "cell_type": "code",
   "execution_count": 34,
   "metadata": {},
   "outputs": [],
   "source": [
    "# Draw Only Correspondences\n",
    "c2c_lines = o3d.geometry.create_line_set_from_point_cloud_correspondences(est_pcl, gt_pcl, correspondences)\n",
    "o3d.visualization.draw_geometries([c2c_lines])"
   ]
  },
  {
   "cell_type": "code",
   "execution_count": 35,
   "metadata": {},
   "outputs": [],
   "source": [
    "# Draw PointClouds and Correspondences\n",
    "draw_correspondences(est_pcl, gt_pcl, c2c_lines)"
   ]
  },
  {
   "cell_type": "code",
   "execution_count": 36,
   "metadata": {},
   "outputs": [],
   "source": [
    "def calc_corresp(est_pcl, gt_pcl, correspondences):\n",
    "    total_negative_matches = 0\n",
    "    total_positive_matches = 0\n",
    "    total_correspondences = len(correspondences)\n",
    "    for correspondence in correspondences:\n",
    "        if np.allclose(est_pcl.colors[correspondence[0]],\n",
    "                       gt_pcl.colors[correspondence[1]]):\n",
    "            total_positive_matches += 1\n",
    "        else:\n",
    "            total_negative_matches += 1\n",
    "\n",
    "    print(\"Positive color matches: \",total_positive_matches)\n",
    "    print(\"Negative color matches: \", total_negative_matches)\n",
    "    print(\"Total correspondences: \", total_correspondences)\n",
    "    assert(total_correspondences == total_negative_matches + total_positive_matches)\n",
    "    print (\"Positive: {}  % \".format(total_positive_matches / total_correspondences * 100))\n",
    "    print (\"Negative: {}  % \".format(total_negative_matches / total_correspondences * 100))"
   ]
  },
  {
   "cell_type": "code",
   "execution_count": 37,
   "metadata": {},
   "outputs": [
    {
     "name": "stdout",
     "output_type": "stream",
     "text": [
      "Positive color matches:  3179963\n",
      "Negative color matches:  304230\n",
      "Total correspondences:  3484193\n",
      "Positive: 91.26827934043837  % \n",
      "Negative: 8.731720659561626  % \n"
     ]
    }
   ],
   "source": [
    "calc_corresp(est_pcl, gt_pcl, correspondences)"
   ]
  },
  {
   "cell_type": "code",
   "execution_count": null,
   "metadata": {},
   "outputs": [],
   "source": []
  }
 ],
 "metadata": {
  "kernelspec": {
   "display_name": "Python 3",
   "language": "python",
   "name": "python3"
  },
  "language_info": {
   "codemirror_mode": {
    "name": "ipython",
    "version": 3
   },
   "file_extension": ".py",
   "mimetype": "text/x-python",
   "name": "python",
   "nbconvert_exporter": "python",
   "pygments_lexer": "ipython3",
   "version": "3.6.9"
  }
 },
 "nbformat": 4,
 "nbformat_minor": 2
}
