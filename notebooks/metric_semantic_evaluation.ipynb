{
 "cells": [
  {
   "cell_type": "code",
   "execution_count": 229,
   "metadata": {},
   "outputs": [],
   "source": [
    "import numpy as np\n",
    "import os\n",
    "import copy\n",
    "\n",
    "import open3d as o3d\n",
    "from open3d import JVisualizer"
   ]
  },
  {
   "cell_type": "code",
   "execution_count": 230,
   "metadata": {},
   "outputs": [],
   "source": [
    "class Mesh:\n",
    "    def __init__(self, filepath):\n",
    "        os.path.isfile(filepath)\n",
    "        self.mesh_o3d = o3d.io.read_triangle_mesh(filepath)\n",
    "        self.print_mesh()\n",
    "\n",
    "    def visualize(self):\n",
    "        self.mesh_o3d.compute_vertex_normals()\n",
    "        vis = o3d.visualization.Visualizer()\n",
    "        vis.create_window()\n",
    "        vis.get_render_option().mesh_show_back_face = True\n",
    "        self.add_to_vis(vis)\n",
    "        mesh_frame = o3d.geometry.create_mesh_coordinate_frame(size=4,\n",
    "                                                               origin=[0, 0, 0])\n",
    "        vis.add_geometry(mesh_frame)\n",
    "        vis.run()\n",
    "        vis.destroy_window()\n",
    "\n",
    "    def add_to_vis(self, vis):\n",
    "        \"\"\" Add the mesh to the visualization `vis` object \"\"\"\n",
    "        self.mesh_o3d.compute_vertex_normals()\n",
    "        vis.add_geometry(self.mesh_o3d)\n",
    "\n",
    "    def print_mesh(self):\n",
    "        print(\"Testing mesh in open3d ...\")\n",
    "        print(self.mesh_o3d)\n",
    "        print(np.asarray(self.mesh_o3d.vertices))\n",
    "        print(np.asarray(self.mesh_o3d.triangles))\n",
    "        print(\"\")\n",
    "    \n",
    "    def transform(self, T):\n",
    "        self.mesh_o3d.transform(T)"
   ]
  },
  {
   "cell_type": "code",
   "execution_count": 231,
   "metadata": {},
   "outputs": [],
   "source": [
    "def quaternion_to_matrix(q):\n",
    "    # q: numpy array: [x, y, z, w]\n",
    "    x = q[0]\n",
    "    y = q[1]\n",
    "    z = q[2]\n",
    "    w = q[3]\n",
    "    Nq = w*w + x*x + y*y + z*z\n",
    "    if Nq < np.finfo(np.float).eps:\n",
    "        return np.eye(3)\n",
    "    s = 2.0/Nq\n",
    "    X = x*s\n",
    "    Y = y*s\n",
    "    Z = z*s\n",
    "    wX = w*X; wY = w*Y; wZ = w*Z\n",
    "    xX = x*X; xY = x*Y; xZ = x*Z\n",
    "    yY = y*Y; yZ = y*Z; zZ = z*Z\n",
    "    return np.array(\n",
    "           [[ 1.0-(yY+zZ), xY-wZ, xZ+wY ],\n",
    "            [ xY+wZ, 1.0-(xX+zZ), yZ-wX ],\n",
    "            [ xZ-wY, yZ+wX, 1.0-(xX+yY) ]])"
   ]
  },
  {
   "cell_type": "code",
   "execution_count": 232,
   "metadata": {},
   "outputs": [],
   "source": [
    "# FILL PATHS BELOW\n",
    "gt_mesh_path = \"/home/yunchang/Desktop/dcist_gt_mesh/city/city_gt.ply\"\n",
    "est_mesh_path = \"/home/yunchang/Desktop/logs-dcist-city/opt_merged.ply\""
   ]
  },
  {
   "cell_type": "code",
   "execution_count": 233,
   "metadata": {},
   "outputs": [],
   "source": [
    "# FILL IN \n",
    "robot_0_position_0 = np.array([10.461223, 6.989249, 0.112946])\n",
    "robot_0_quaternion_0 = np.array([0, 0, -0.01, 0.99])"
   ]
  },
  {
   "cell_type": "code",
   "execution_count": 234,
   "metadata": {},
   "outputs": [
    {
     "name": "stdout",
     "output_type": "stream",
     "text": [
      "Loading Ground-truth mesh...\n",
      "Testing mesh in open3d ...\n",
      "geometry::TriangleMesh with 29678634 points and 35058248 triangles.\n",
      "[[-48.725    59.6745    6.875  ]\n",
      " [-48.734    59.675     6.875  ]\n",
      " [-48.725    59.675     6.84616]\n",
      " ...\n",
      " [-48.825    59.6819    7.125  ]\n",
      " [-48.775    59.6859    7.125  ]\n",
      " [-48.825    59.6842    7.175  ]]\n",
      "[[       0        1        2]\n",
      " [       3        4        5]\n",
      " [       6        7        8]\n",
      " ...\n",
      " [26610404 26610378 29678548]\n",
      " [26610430 29678569 29678590]\n",
      " [26610430 26610404 29678569]]\n",
      "\n",
      "Loading Estimated mesh...\n",
      "Testing mesh in open3d ...\n",
      "geometry::TriangleMesh with 8009335 points and 13404390 triangles.\n",
      "[[ 30.4187  -16.5139   10.5214 ]\n",
      " [ 30.4893  -16.4418   10.5248 ]\n",
      " [ 30.4893  -16.5166   10.5041 ]\n",
      " ...\n",
      " [  3.86911   5.13399  13.1148 ]\n",
      " [  3.79295   5.19404  13.141  ]\n",
      " [  3.74991   5.21894  13.1532 ]]\n",
      "[[      0       1       2]\n",
      " [      2       1       3]\n",
      " [      4       5       6]\n",
      " ...\n",
      " [8009268 8009309 8009286]\n",
      " [8009334 8009309 8009268]\n",
      " [7941730 8009292 8009286]]\n",
      "\n"
     ]
    }
   ],
   "source": [
    "print(\"Loading Ground-truth mesh...\")\n",
    "gt_mesh_original = Mesh(gt_mesh_path)\n",
    "print(\"Loading Estimated mesh...\")\n",
    "est_mesh_original = Mesh(est_mesh_path)"
   ]
  },
  {
   "cell_type": "code",
   "execution_count": 235,
   "metadata": {},
   "outputs": [],
   "source": [
    "# Transform Meshes to same frame of reference\n",
    "gt_mesh = copy.deepcopy(gt_mesh_original)\n",
    "est_mesh = copy.deepcopy(est_mesh_original)"
   ]
  },
  {
   "cell_type": "code",
   "execution_count": 236,
   "metadata": {},
   "outputs": [],
   "source": [
    "# Transform gt mesh to est mesh \n",
    "w_T_gtPose0 = np.eye(4)\n",
    "w_T_gtPose0[:3, :3] = quaternion_to_matrix(robot_0_quaternion_0)\n",
    "w_T_gtPose0[:3, 3] = robot_0_position_0\n",
    "\n",
    "w_T_estPose0 = np.eye(4) # first pose of first robot after dpgo is identity \n",
    "\n",
    "est_T_gt = np.dot(np.linalg.inv(w_T_gtPose0), w_T_estPose0)\n",
    "gt_mesh.transform(est_T_gt)"
   ]
  },
  {
   "cell_type": "code",
   "execution_count": 237,
   "metadata": {},
   "outputs": [],
   "source": [
    "vis = o3d.visualization.Visualizer()\n",
    "vis.create_window()\n",
    "vis.get_render_option().mesh_show_back_face = True\n",
    "vis.add_geometry(est_mesh.mesh_o3d)\n",
    "vis.add_geometry(gt_mesh.mesh_o3d)\n",
    "vis.add_geometry(o3d.geometry.create_mesh_coordinate_frame(size=4))\n",
    "vis.run()\n",
    "vis.destroy_window()"
   ]
  },
  {
   "cell_type": "code",
   "execution_count": 238,
   "metadata": {},
   "outputs": [],
   "source": [
    "NUMBER_OF_SAMPLES=1000000\n",
    "gt_pcl = o3d.geometry.sample_points_uniformly(gt_mesh.mesh_o3d, NUMBER_OF_SAMPLES)\n",
    "# Don't sample estimated mesh, just pick vertices, otw you'll be mixing colors...\n",
    "# est_pcl = o3d.geometry.sample_points_uniformly(est_mesh.mesh_o3d, NUMBER_OF_SAMPLES)\n",
    "est_pcl = o3d.io.read_point_cloud(est_mesh_path)"
   ]
  },
  {
   "cell_type": "code",
   "execution_count": 239,
   "metadata": {},
   "outputs": [],
   "source": [
    "vis = o3d.visualization.Visualizer()\n",
    "vis.create_window()\n",
    "vis.get_render_option().mesh_show_back_face = True\n",
    "vis.add_geometry(gt_pcl)\n",
    "vis.add_geometry(est_pcl)\n",
    "vis.run()\n",
    "vis.destroy_window()"
   ]
  },
  {
   "cell_type": "code",
   "execution_count": 240,
   "metadata": {},
   "outputs": [],
   "source": [
    "# ICP\n",
    "def draw_registration_result(source, target, transformation):\n",
    "    source_temp = copy.deepcopy(source)\n",
    "    target_temp = copy.deepcopy(target)\n",
    "    source_temp.paint_uniform_color([1, 0.706, 0])\n",
    "    target_temp.paint_uniform_color([0, 0.651, 0.929])\n",
    "    source_temp.transform(transformation)\n",
    "    o3d.visualization.draw_geometries([source_temp, target_temp])\n",
    "def draw_correspondences(source, target, correspondences):\n",
    "    source_temp = copy.deepcopy(source)\n",
    "    target_temp = copy.deepcopy(target)\n",
    "    #source_temp.paint_uniform_color([1, 0.706, 0])\n",
    "    #target_temp.paint_uniform_color([0, 0.651, 0.929])\n",
    "    o3d.visualization.draw_geometries([source_temp, #target_temp, \n",
    "                                       correspondences])\n",
    "    "
   ]
  },
  {
   "cell_type": "code",
   "execution_count": 241,
   "metadata": {},
   "outputs": [],
   "source": [
    "# ICP params\n",
    "ICP_THRESHOLD = 1.0\n",
    "trans_init = np.asarray([[1.0, 0.0, 0.0, 0.0],\n",
    "                         [0.0, 1.0, 0.0, 0.0],\n",
    "                         [0.0, 0.0, 1.0, 0.0],\n",
    "                         [0.0, 0.0, 0.0, 1.0]])"
   ]
  },
  {
   "cell_type": "code",
   "execution_count": 242,
   "metadata": {},
   "outputs": [],
   "source": [
    "# Visualize initial registration problem\n",
    "draw_registration_result(est_pcl, gt_pcl, trans_init)"
   ]
  },
  {
   "cell_type": "code",
   "execution_count": 243,
   "metadata": {},
   "outputs": [],
   "source": [
    "# Evaluate current fit between pointclouds\n",
    "evaluation = o3d.registration.evaluate_registration(est_pcl, gt_pcl, ICP_THRESHOLD, trans_init)"
   ]
  },
  {
   "cell_type": "code",
   "execution_count": 244,
   "metadata": {},
   "outputs": [
    {
     "name": "stdout",
     "output_type": "stream",
     "text": [
      "Initial registration\n",
      "registration::RegistrationResult with fitness = 0.409029, inlier_rmse = 0.589045, and correspondence_set size of 3276047\n",
      "Access transformation to get result.\n"
     ]
    }
   ],
   "source": [
    "print(\"Initial registration\")\n",
    "print(evaluation)"
   ]
  },
  {
   "cell_type": "code",
   "execution_count": 245,
   "metadata": {},
   "outputs": [
    {
     "name": "stdout",
     "output_type": "stream",
     "text": [
      "Apply point-to-point ICP\n"
     ]
    }
   ],
   "source": [
    "print(\"Apply point-to-point ICP\")\n",
    "reg_p2p = o3d.registration.registration_icp(\n",
    "    est_pcl, gt_pcl, ICP_THRESHOLD, trans_init,\n",
    "    o3d.registration.TransformationEstimationPointToPoint(),\n",
    "    o3d.registration.ICPConvergenceCriteria(max_iteration = 2000))\n",
    "correspondences = reg_p2p.correspondence_set"
   ]
  },
  {
   "cell_type": "code",
   "execution_count": 246,
   "metadata": {},
   "outputs": [
    {
     "name": "stdout",
     "output_type": "stream",
     "text": [
      "registration::RegistrationResult with fitness = 0.592956, inlier_rmse = 0.513472, and correspondence_set size of 4749181\n",
      "Access transformation to get result.\n",
      "\n",
      "Transformation is:\n",
      "[[ 0.99860839  0.03681391 -0.03776261  1.90568641]\n",
      " [-0.03746641  0.99915802 -0.01671903 -2.07746441]\n",
      " [ 0.03711532  0.01811059  0.99914687 -0.29410877]\n",
      " [ 0.          0.          0.          1.        ]]\n",
      "\n",
      "Correspondence Set:\n",
      "std::vector<Eigen::Vector2i> with 4749181 elements.\n",
      "Use numpy.asarray() to access data.\n",
      "\n"
     ]
    }
   ],
   "source": [
    "print(reg_p2p)\n",
    "print(\"\")\n",
    "\n",
    "print(\"Transformation is:\")\n",
    "print(reg_p2p.transformation)\n",
    "print(\"\")\n",
    "\n",
    "print(\"Correspondence Set:\")\n",
    "print(reg_p2p.correspondence_set)\n",
    "print(\"\")"
   ]
  },
  {
   "cell_type": "code",
   "execution_count": 247,
   "metadata": {},
   "outputs": [],
   "source": [
    "# Draw Registration Result\n",
    "draw_registration_result(est_pcl, gt_pcl, reg_p2p.transformation)"
   ]
  },
  {
   "cell_type": "code",
   "execution_count": 248,
   "metadata": {},
   "outputs": [],
   "source": [
    "# Draw Only Correspondences\n",
    "c2c_lines = o3d.geometry.create_line_set_from_point_cloud_correspondences(est_pcl, gt_pcl, correspondences)\n",
    "o3d.visualization.draw_geometries([c2c_lines])"
   ]
  },
  {
   "cell_type": "code",
   "execution_count": 249,
   "metadata": {},
   "outputs": [],
   "source": [
    "# Draw PointClouds and Correspondences\n",
    "draw_correspondences(est_pcl, gt_pcl, c2c_lines)"
   ]
  },
  {
   "cell_type": "code",
   "execution_count": 250,
   "metadata": {},
   "outputs": [],
   "source": [
    "def calc_corresp(est_pcl, gt_pcl, correspondences):\n",
    "    total_negative_matches = 0\n",
    "    total_positive_matches = 0\n",
    "    total_correspondences = len(correspondences)\n",
    "    for correspondence in correspondences:\n",
    "        if np.allclose(est_pcl.colors[correspondence[0]],\n",
    "                       gt_pcl.colors[correspondence[1]]):\n",
    "            total_positive_matches += 1\n",
    "        else:\n",
    "            total_negative_matches += 1\n",
    "\n",
    "    print(\"Positive color matches: \",total_positive_matches)\n",
    "    print(\"Negative color matches: \", total_negative_matches)\n",
    "    print(\"Total correspondences: \", total_correspondences)\n",
    "    assert(total_correspondences == total_negative_matches + total_positive_matches)\n",
    "    print (\"Positive: {}  % \".format(total_positive_matches / total_correspondences * 100))\n",
    "    print (\"Negative: {}  % \".format(total_negative_matches / total_correspondences * 100))"
   ]
  },
  {
   "cell_type": "code",
   "execution_count": 251,
   "metadata": {},
   "outputs": [
    {
     "name": "stdout",
     "output_type": "stream",
     "text": [
      "Positive color matches:  3748508\n",
      "Negative color matches:  1000673\n",
      "Total correspondences:  4749181\n",
      "Positive: 78.92956701376511  % \n",
      "Negative: 21.07043298623489  % \n"
     ]
    }
   ],
   "source": [
    "calc_corresp(est_pcl, gt_pcl, correspondences)"
   ]
  },
  {
   "cell_type": "code",
   "execution_count": null,
   "metadata": {},
   "outputs": [],
   "source": []
  }
 ],
 "metadata": {
  "kernelspec": {
   "display_name": "Python 3",
   "language": "python",
   "name": "python3"
  },
  "language_info": {
   "codemirror_mode": {
    "name": "ipython",
    "version": 3
   },
   "file_extension": ".py",
   "mimetype": "text/x-python",
   "name": "python",
   "nbconvert_exporter": "python",
   "pygments_lexer": "ipython3",
   "version": "3.6.9"
  }
 },
 "nbformat": 4,
 "nbformat_minor": 2
}
