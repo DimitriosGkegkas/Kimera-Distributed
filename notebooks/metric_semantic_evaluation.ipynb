{
 "cells": [
  {
   "cell_type": "code",
   "execution_count": 1,
   "metadata": {},
   "outputs": [],
   "source": [
    "import numpy as np\n",
    "import os\n",
    "import copy\n",
    "\n",
    "import open3d as o3d\n",
    "from open3d import JVisualizer"
   ]
  },
  {
   "cell_type": "code",
   "execution_count": 2,
   "metadata": {},
   "outputs": [],
   "source": [
    "class Mesh:\n",
    "    def __init__(self, filepath):\n",
    "        os.path.isfile(filepath)\n",
    "        self.mesh_o3d = o3d.io.read_triangle_mesh(filepath)\n",
    "        self.print_mesh()\n",
    "\n",
    "    def visualize(self):\n",
    "        self.mesh_o3d.compute_vertex_normals()\n",
    "        vis = o3d.visualization.Visualizer()\n",
    "        vis.create_window()\n",
    "        vis.get_render_option().mesh_show_back_face = True\n",
    "        self.add_to_vis(vis)\n",
    "        mesh_frame = o3d.geometry.create_mesh_coordinate_frame(size=4,\n",
    "                                                               origin=[0, 0, 0])\n",
    "        vis.add_geometry(mesh_frame)\n",
    "        vis.run()\n",
    "        vis.destroy_window()\n",
    "\n",
    "    def add_to_vis(self, vis):\n",
    "        \"\"\" Add the mesh to the visualization `vis` object \"\"\"\n",
    "        self.mesh_o3d.compute_vertex_normals()\n",
    "        vis.add_geometry(self.mesh_o3d)\n",
    "\n",
    "    def print_mesh(self):\n",
    "        print(\"Testing mesh in open3d ...\")\n",
    "        print(self.mesh_o3d)\n",
    "        print(np.asarray(self.mesh_o3d.vertices))\n",
    "        print(np.asarray(self.mesh_o3d.triangles))\n",
    "        print(\"\")\n",
    "    \n",
    "    def transform(self, T):\n",
    "        self.mesh_o3d.transform(T)"
   ]
  },
  {
   "cell_type": "code",
   "execution_count": 3,
   "metadata": {},
   "outputs": [],
   "source": [
    "def quaternion_to_matrix(q):\n",
    "    # q: numpy array: [x, y, z, w]\n",
    "    x = q[0]\n",
    "    y = q[1]\n",
    "    z = q[2]\n",
    "    w = q[3]\n",
    "    Nq = w*w + x*x + y*y + z*z\n",
    "    if Nq < np.finfo(np.float).eps:\n",
    "        return np.eye(3)\n",
    "    s = 2.0/Nq\n",
    "    X = x*s\n",
    "    Y = y*s\n",
    "    Z = z*s\n",
    "    wX = w*X; wY = w*Y; wZ = w*Z\n",
    "    xX = x*X; xY = x*Y; xZ = x*Z\n",
    "    yY = y*Y; yZ = y*Z; zZ = z*Z\n",
    "    return np.array(\n",
    "           [[ 1.0-(yY+zZ), xY-wZ, xZ+wY ],\n",
    "            [ xY+wZ, 1.0-(xX+zZ), yZ-wX ],\n",
    "            [ xZ-wY, yZ+wX, 1.0-(xX+yY) ]])"
   ]
  },
  {
   "cell_type": "code",
   "execution_count": 144,
   "metadata": {},
   "outputs": [],
   "source": [
    "# FILL PATHS BELOW\n",
    "gt_mesh_path = \"/home/yunchang/Desktop/dcist_gt_mesh/camp/camp_gt.ply\"\n",
    "est_mesh_path = \"/home/yunchang/Downloads/tro_results/camp/mesh_pgmo.ply\""
   ]
  },
  {
   "cell_type": "code",
   "execution_count": 145,
   "metadata": {},
   "outputs": [],
   "source": [
    "# FILL IN \n",
    "robot_0_position_0 = np.array([0, 0, 0])\n",
    "robot_0_quaternion_0 = np.array([0, 0, 0, 1])"
   ]
  },
  {
   "cell_type": "code",
   "execution_count": 146,
   "metadata": {},
   "outputs": [
    {
     "name": "stdout",
     "output_type": "stream",
     "text": [
      "Loading Ground-truth mesh...\n",
      "Testing mesh in open3d ...\n",
      "geometry::TriangleMesh with 35706535 points and 37947294 triangles.\n",
      "[[-1.99783e+01 -5.85750e+01  2.50000e-02]\n",
      " [-1.99750e+01 -5.85934e+01  2.50000e-02]\n",
      " [-1.99750e+01 -5.85750e+01  2.37550e-02]\n",
      " ...\n",
      " [ 6.17500e+00 -3.01750e+01  2.41304e+00]\n",
      " [ 6.17667e+00 -3.01750e+01  2.42500e+00]\n",
      " [ 6.19762e+00 -3.01250e+01  2.42500e+00]]\n",
      "[[       0        1        2]\n",
      " [       3        0        2]\n",
      " [       4        5        6]\n",
      " ...\n",
      " [35706361 35706360 35706532]\n",
      " [35706533 35706361 35706532]\n",
      " [35706534 35706361 35706533]]\n",
      "\n",
      "Loading Estimated mesh...\n",
      "Testing mesh in open3d ...\n",
      "geometry::TriangleMesh with 2930323 points and 11545216 triangles.\n",
      "[[ 75.5388  -49.1382    6.2504 ]\n",
      " [ 75.6995  -49.0844    6.2566 ]\n",
      " [ 75.5686  -48.9804    6.23622]\n",
      " ...\n",
      " [-39.4781   -9.96037   2.56177]\n",
      " [-39.5347   -8.9882    2.50582]\n",
      " [-41.1905   -7.34573   2.42424]]\n",
      "[[      0       1       2]\n",
      " [      3       1       0]\n",
      " [      4       3       0]\n",
      " ...\n",
      " [2928586 2928591 2928585]\n",
      " [2928383 2928644 2920404]\n",
      " [2928383 2920434 2928644]]\n",
      "\n"
     ]
    }
   ],
   "source": [
    "print(\"Loading Ground-truth mesh...\")\n",
    "gt_mesh_original = Mesh(gt_mesh_path)\n",
    "print(\"Loading Estimated mesh...\")\n",
    "est_mesh_original = Mesh(est_mesh_path)"
   ]
  },
  {
   "cell_type": "code",
   "execution_count": 147,
   "metadata": {},
   "outputs": [],
   "source": [
    "# Transform Meshes to same frame of reference\n",
    "gt_mesh = copy.deepcopy(gt_mesh_original)\n",
    "est_mesh = copy.deepcopy(est_mesh_original)"
   ]
  },
  {
   "cell_type": "code",
   "execution_count": 148,
   "metadata": {},
   "outputs": [],
   "source": [
    "# Transform gt mesh to est mesh \n",
    "w_T_gtPose0 = np.eye(4)\n",
    "w_T_gtPose0[:3, :3] = quaternion_to_matrix(robot_0_quaternion_0)\n",
    "w_T_gtPose0[:3, 3] = robot_0_position_0\n",
    "\n",
    "w_T_estPose0 = np.eye(4) # first pose of first robot after dpgo is identity \n",
    "\n",
    "est_T_gt = np.dot(np.linalg.inv(w_T_gtPose0), w_T_estPose0)\n",
    "gt_mesh.transform(est_T_gt)"
   ]
  },
  {
   "cell_type": "code",
   "execution_count": 149,
   "metadata": {},
   "outputs": [],
   "source": [
    "# vis = o3d.visualization.Visualizer()\n",
    "# vis.create_window()\n",
    "# vis.get_render_option().mesh_show_back_face = True\n",
    "# vis.add_geometry(est_mesh.mesh_o3d)\n",
    "# vis.add_geometry(gt_mesh.mesh_o3d)\n",
    "# # vis.add_geometry(o3d.geometry.create_mesh_coordinate_frame(size=4))\n",
    "# vis.run()\n",
    "# vis.destroy_window()"
   ]
  },
  {
   "cell_type": "code",
   "execution_count": 150,
   "metadata": {},
   "outputs": [],
   "source": [
    "NUMBER_OF_SAMPLES=1000000\n",
    "gt_pcl = gt_mesh.mesh_o3d.sample_points_uniformly(NUMBER_OF_SAMPLES)\n",
    "# Don't sample estimated mesh, just pick vertices, otw you'll be mixing colors...\n",
    "# est_pcl = o3d.geometry.sample_points_uniformly(est_mesh.mesh_o3d, NUMBER_OF_SAMPLES)\n",
    "est_pcl = o3d.io.read_point_cloud(est_mesh_path)"
   ]
  },
  {
   "cell_type": "code",
   "execution_count": 151,
   "metadata": {},
   "outputs": [],
   "source": [
    "# vis = o3d.visualization.Visualizer()\n",
    "# vis.create_window()\n",
    "# vis.get_render_option().mesh_show_back_face = True\n",
    "# vis.add_geometry(gt_pcl)\n",
    "# vis.add_geometry(est_pcl)\n",
    "# vis.run()\n",
    "# vis.destroy_window()"
   ]
  },
  {
   "cell_type": "code",
   "execution_count": 152,
   "metadata": {},
   "outputs": [],
   "source": [
    "# ICP\n",
    "def draw_registration_result(source, target, transformation):\n",
    "    source_temp = copy.deepcopy(source)\n",
    "    target_temp = copy.deepcopy(target)\n",
    "    source_temp.paint_uniform_color([1, 0.706, 0])\n",
    "    target_temp.paint_uniform_color([0, 0.651, 0.929])\n",
    "    source_temp.transform(transformation)\n",
    "    o3d.visualization.draw_geometries([source_temp, target_temp])\n",
    "def draw_correspondences(source, target, correspondences):\n",
    "    source_temp = copy.deepcopy(source)\n",
    "    target_temp = copy.deepcopy(target)\n",
    "    #source_temp.paint_uniform_color([1, 0.706, 0])\n",
    "    #target_temp.paint_uniform_color([0, 0.651, 0.929])\n",
    "    o3d.visualization.draw_geometries([source_temp, #target_temp, \n",
    "                                       correspondences])\n",
    "    "
   ]
  },
  {
   "cell_type": "code",
   "execution_count": 153,
   "metadata": {},
   "outputs": [],
   "source": [
    "# ICP params\n",
    "ICP_THRESHOLD = 1.0\n",
    "trans_init = np.asarray([[1.0, 0.0, 0.0, 0.0],\n",
    "                         [0.0, 1.0, 0.0, 0.0],\n",
    "                         [0.0, 0.0, 1.0, 0.0],\n",
    "                         [0.0, 0.0, 0.0, 1.0]])"
   ]
  },
  {
   "cell_type": "code",
   "execution_count": 154,
   "metadata": {},
   "outputs": [],
   "source": [
    "# # Visualize initial registration problem\n",
    "# draw_registration_result(est_pcl, gt_pcl, trans_init)"
   ]
  },
  {
   "cell_type": "code",
   "execution_count": 155,
   "metadata": {},
   "outputs": [],
   "source": [
    "# Evaluate current fit between pointclouds\n",
    "evaluation = o3d.registration.evaluate_registration(est_pcl, gt_pcl, ICP_THRESHOLD, trans_init)"
   ]
  },
  {
   "cell_type": "code",
   "execution_count": 156,
   "metadata": {},
   "outputs": [
    {
     "name": "stdout",
     "output_type": "stream",
     "text": [
      "Initial registration\n",
      "registration::RegistrationResult with fitness=1.391884e-01, inlier_rmse=6.023816e-01, and correspondence_set size of 407867\n",
      "Access transformation to get result.\n"
     ]
    }
   ],
   "source": [
    "print(\"Initial registration\")\n",
    "print(evaluation)"
   ]
  },
  {
   "cell_type": "code",
   "execution_count": 157,
   "metadata": {},
   "outputs": [
    {
     "name": "stdout",
     "output_type": "stream",
     "text": [
      "Apply point-to-point ICP\n"
     ]
    }
   ],
   "source": [
    "print(\"Apply point-to-point ICP\")\n",
    "reg_p2p = o3d.registration.registration_icp(\n",
    "    est_pcl, gt_pcl, ICP_THRESHOLD, trans_init,\n",
    "    o3d.registration.TransformationEstimationPointToPoint(),\n",
    "    o3d.registration.ICPConvergenceCriteria(max_iteration = 2000))\n",
    "correspondences = reg_p2p.correspondence_set"
   ]
  },
  {
   "cell_type": "code",
   "execution_count": 158,
   "metadata": {},
   "outputs": [
    {
     "name": "stdout",
     "output_type": "stream",
     "text": [
      "registration::RegistrationResult with fitness=5.401708e-01, inlier_rmse=4.780114e-01, and correspondence_set size of 1582875\n",
      "Access transformation to get result.\n",
      "\n",
      "Transformation is:\n",
      "[[ 0.99437222  0.09242255  0.05178764  6.41835053]\n",
      " [-0.09020172  0.99496435 -0.04369879  9.36272342]\n",
      " [-0.05556561  0.03878153  0.99770159 -0.40419754]\n",
      " [ 0.          0.          0.          1.        ]]\n",
      "\n",
      "Correspondence Set:\n",
      "std::vector<Eigen::Vector2i> with 1582875 elements.\n",
      "Use numpy.asarray() to access data.\n",
      "\n"
     ]
    }
   ],
   "source": [
    "print(reg_p2p)\n",
    "print(\"\")\n",
    "\n",
    "print(\"Transformation is:\")\n",
    "print(reg_p2p.transformation)\n",
    "print(\"\")\n",
    "\n",
    "print(\"Correspondence Set:\")\n",
    "print(reg_p2p.correspondence_set)\n",
    "print(\"\")"
   ]
  },
  {
   "cell_type": "code",
   "execution_count": 159,
   "metadata": {},
   "outputs": [],
   "source": [
    "# # Draw Registration Result\n",
    "# draw_registration_result(est_pcl, gt_pcl, reg_p2p.transformation)"
   ]
  },
  {
   "cell_type": "code",
   "execution_count": 160,
   "metadata": {},
   "outputs": [],
   "source": [
    "# # Draw Only Correspondences\n",
    "# c2c_lines = o3d.geometry.create_line_set_from_point_cloud_correspondences(est_pcl, gt_pcl, correspondences)\n",
    "# o3d.visualization.draw_geometries([c2c_lines])"
   ]
  },
  {
   "cell_type": "code",
   "execution_count": 161,
   "metadata": {},
   "outputs": [],
   "source": [
    "# # Draw PointClouds and Correspondences\n",
    "# draw_correspondences(est_pcl, gt_pcl, c2c_lines)"
   ]
  },
  {
   "cell_type": "code",
   "execution_count": 162,
   "metadata": {},
   "outputs": [],
   "source": [
    "def calc_corresp(est_pcl, gt_pcl, correspondences):\n",
    "    total_negative_matches = 0\n",
    "    total_positive_matches = 0\n",
    "    total_correspondences = len(correspondences)\n",
    "    for correspondence in correspondences:\n",
    "        if np.allclose(est_pcl.colors[correspondence[0]],\n",
    "                       gt_pcl.colors[correspondence[1]]):\n",
    "            total_positive_matches += 1\n",
    "        else:\n",
    "            total_negative_matches += 1\n",
    "\n",
    "    print(\"Positive color matches: \",total_positive_matches)\n",
    "    print(\"Negative color matches: \", total_negative_matches)\n",
    "    print(\"Total correspondences: \", total_correspondences)\n",
    "    assert(total_correspondences == total_negative_matches + total_positive_matches)\n",
    "    print (\"Positive: {}  % \".format(float(total_positive_matches) / float(total_correspondences) * 100.0))\n",
    "    print (\"Negative: {}  % \".format(float(total_negative_matches) / float(total_correspondences) * 100.0))"
   ]
  },
  {
   "cell_type": "code",
   "execution_count": 163,
   "metadata": {},
   "outputs": [
    {
     "name": "stdout",
     "output_type": "stream",
     "text": [
      "('Positive color matches: ', 1257472)\n",
      "('Negative color matches: ', 325403)\n",
      "('Total correspondences: ', 1582875)\n",
      "Positive: 79.4422806602  % \n",
      "Negative: 20.5577193398  % \n"
     ]
    }
   ],
   "source": [
    "calc_corresp(est_pcl, gt_pcl, correspondences)"
   ]
  },
  {
   "cell_type": "code",
   "execution_count": null,
   "metadata": {},
   "outputs": [],
   "source": []
  }
 ],
 "metadata": {
  "kernelspec": {
   "display_name": "Python 2",
   "language": "python",
   "name": "python2"
  },
  "language_info": {
   "codemirror_mode": {
    "name": "ipython",
    "version": 2
   },
   "file_extension": ".py",
   "mimetype": "text/x-python",
   "name": "python",
   "nbconvert_exporter": "python",
   "pygments_lexer": "ipython2",
   "version": "2.7.17"
  }
 },
 "nbformat": 4,
 "nbformat_minor": 2
}
